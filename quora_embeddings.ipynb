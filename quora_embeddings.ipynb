{
 "cells": [
  {
   "cell_type": "markdown",
   "metadata": {},
   "source": [
    "# Use GloVE embeddings for filtered Quora training questions\n",
    "\n",
    "Resources:\n",
    "https://www.kaggle.com/arunava21/word2vec-and-random-forest-classification\n",
    "https://www.kaggle.com/stacykurnikova/using-glove-embedding\n",
    "\n",
    "### Load GloVE embeddings\n"
   ]
  },
  {
   "cell_type": "code",
   "execution_count": 46,
   "metadata": {},
   "outputs": [],
   "source": [
    "import numpy as np\n",
    "import pandas as pd\n",
    "import re\n",
    "import matplotlib.pyplot as plt\n",
    "%matplotlib inline\n",
    "from nltk.corpus import stopwords\n",
    "stop = set(stopwords.words('english'))"
   ]
  },
  {
   "cell_type": "code",
   "execution_count": 10,
   "metadata": {},
   "outputs": [],
   "source": [
    "glove_dict = {}\n",
    "GLOVE_DIM=100\n",
    "with open('/Users/jlzhou/Documents/med277/glove.6B.100d.txt') as f:\n",
    "    for line in f:\n",
    "        values = line.split(' ')\n",
    "        word = values[0] # first word in line is word for which GloVe embedding is provided\n",
    "        coefs = np.asarray(values[1:], dtype='float32') # word embedding vector \n",
    "        glove_dict[word] = coefs"
   ]
  },
  {
   "cell_type": "markdown",
   "metadata": {},
   "source": [
    "### Preprocess Quora training questions (filtered for medical terms)"
   ]
  },
  {
   "cell_type": "code",
   "execution_count": 4,
   "metadata": {},
   "outputs": [
    {
     "data": {
      "text/html": [
       "<div>\n",
       "<style scoped>\n",
       "    .dataframe tbody tr th:only-of-type {\n",
       "        vertical-align: middle;\n",
       "    }\n",
       "\n",
       "    .dataframe tbody tr th {\n",
       "        vertical-align: top;\n",
       "    }\n",
       "\n",
       "    .dataframe thead th {\n",
       "        text-align: right;\n",
       "    }\n",
       "</style>\n",
       "<table border=\"1\" class=\"dataframe\">\n",
       "  <thead>\n",
       "    <tr style=\"text-align: right;\">\n",
       "      <th></th>\n",
       "      <th>qid</th>\n",
       "      <th>question_text</th>\n",
       "      <th>target</th>\n",
       "    </tr>\n",
       "  </thead>\n",
       "  <tbody>\n",
       "    <tr>\n",
       "      <th>0</th>\n",
       "      <td>000032939017120e6e44</td>\n",
       "      <td>Do you have an adopted dog, how would you enco...</td>\n",
       "      <td>0</td>\n",
       "    </tr>\n",
       "    <tr>\n",
       "      <th>1</th>\n",
       "      <td>0000412ca6e4628ce2cf</td>\n",
       "      <td>Why does velocity affect time? Does velocity a...</td>\n",
       "      <td>0</td>\n",
       "    </tr>\n",
       "    <tr>\n",
       "      <th>2</th>\n",
       "      <td>000042bf85aa498cd78e</td>\n",
       "      <td>How did Otto von Guericke used the Magdeburg h...</td>\n",
       "      <td>0</td>\n",
       "    </tr>\n",
       "    <tr>\n",
       "      <th>3</th>\n",
       "      <td>0000559f875832745e2e</td>\n",
       "      <td>Is it crazy if I wash or wipe my groceries off...</td>\n",
       "      <td>0</td>\n",
       "    </tr>\n",
       "    <tr>\n",
       "      <th>4</th>\n",
       "      <td>000075f67dd595c3deb5</td>\n",
       "      <td>What can you say about feminism?</td>\n",
       "      <td>0</td>\n",
       "    </tr>\n",
       "  </tbody>\n",
       "</table>\n",
       "</div>"
      ],
      "text/plain": [
       "                    qid                                      question_text  \\\n",
       "0  000032939017120e6e44  Do you have an adopted dog, how would you enco...   \n",
       "1  0000412ca6e4628ce2cf  Why does velocity affect time? Does velocity a...   \n",
       "2  000042bf85aa498cd78e  How did Otto von Guericke used the Magdeburg h...   \n",
       "3  0000559f875832745e2e  Is it crazy if I wash or wipe my groceries off...   \n",
       "4  000075f67dd595c3deb5                   What can you say about feminism?   \n",
       "\n",
       "   target  \n",
       "0       0  \n",
       "1       0  \n",
       "2       0  \n",
       "3       0  \n",
       "4       0  "
      ]
     },
     "execution_count": 4,
     "metadata": {},
     "output_type": "execute_result"
    }
   ],
   "source": [
    "# load training questions\n",
    "train = pd.read_csv('/Users/jlzhou/Documents/med277/quora_train_med.csv')\n",
    "train.head()"
   ]
  },
  {
   "cell_type": "code",
   "execution_count": 5,
   "metadata": {},
   "outputs": [],
   "source": [
    "# takes any dataframe with the above format \n",
    "def preprocess_questions(df):\n",
    "    # get bow for each q, dropping punctuation except for apostrophe\n",
    "    df['bow'] = df.question_text.apply(lambda x: set(re.sub(\"[^\\w\\d'\\s]+\",'',x).split()))\n",
    "    # remove stop words, convert to list object for Tokenizer\n",
    "    df['preprocessed'] = df.bow.apply(lambda x: list(x-stop))"
   ]
  },
  {
   "cell_type": "code",
   "execution_count": 6,
   "metadata": {},
   "outputs": [
    {
     "data": {
      "text/html": [
       "<div>\n",
       "<style scoped>\n",
       "    .dataframe tbody tr th:only-of-type {\n",
       "        vertical-align: middle;\n",
       "    }\n",
       "\n",
       "    .dataframe tbody tr th {\n",
       "        vertical-align: top;\n",
       "    }\n",
       "\n",
       "    .dataframe thead th {\n",
       "        text-align: right;\n",
       "    }\n",
       "</style>\n",
       "<table border=\"1\" class=\"dataframe\">\n",
       "  <thead>\n",
       "    <tr style=\"text-align: right;\">\n",
       "      <th></th>\n",
       "      <th>qid</th>\n",
       "      <th>question_text</th>\n",
       "      <th>target</th>\n",
       "      <th>bow</th>\n",
       "      <th>preprocessed</th>\n",
       "    </tr>\n",
       "  </thead>\n",
       "  <tbody>\n",
       "    <tr>\n",
       "      <th>0</th>\n",
       "      <td>000032939017120e6e44</td>\n",
       "      <td>Do you have an adopted dog, how would you enco...</td>\n",
       "      <td>0</td>\n",
       "      <td>{have, encourage, and, an, Do, adopted, not, y...</td>\n",
       "      <td>[Do, adopted, shop, would, dog, encourage, peo...</td>\n",
       "    </tr>\n",
       "    <tr>\n",
       "      <th>1</th>\n",
       "      <td>0000412ca6e4628ce2cf</td>\n",
       "      <td>Why does velocity affect time? Does velocity a...</td>\n",
       "      <td>0</td>\n",
       "      <td>{Does, affect, geometry, space, Why, velocity,...</td>\n",
       "      <td>[Does, affect, geometry, space, Why, velocity,...</td>\n",
       "    </tr>\n",
       "    <tr>\n",
       "      <th>2</th>\n",
       "      <td>000042bf85aa498cd78e</td>\n",
       "      <td>How did Otto von Guericke used the Magdeburg h...</td>\n",
       "      <td>0</td>\n",
       "      <td>{did, hemispheres, Otto, How, the, von, used, ...</td>\n",
       "      <td>[hemispheres, Otto, How, von, used, Guericke, ...</td>\n",
       "    </tr>\n",
       "    <tr>\n",
       "      <th>3</th>\n",
       "      <td>0000559f875832745e2e</td>\n",
       "      <td>Is it crazy if I wash or wipe my groceries off...</td>\n",
       "      <td>0</td>\n",
       "      <td>{are, wash, off, groceries, or, it, Germs, Is,...</td>\n",
       "      <td>[wipe, wash, Germs, Is, I, everywhere, groceri...</td>\n",
       "    </tr>\n",
       "    <tr>\n",
       "      <th>4</th>\n",
       "      <td>000075f67dd595c3deb5</td>\n",
       "      <td>What can you say about feminism?</td>\n",
       "      <td>0</td>\n",
       "      <td>{say, What, can, you, feminism, about}</td>\n",
       "      <td>[What, say, feminism]</td>\n",
       "    </tr>\n",
       "  </tbody>\n",
       "</table>\n",
       "</div>"
      ],
      "text/plain": [
       "                    qid                                      question_text  \\\n",
       "0  000032939017120e6e44  Do you have an adopted dog, how would you enco...   \n",
       "1  0000412ca6e4628ce2cf  Why does velocity affect time? Does velocity a...   \n",
       "2  000042bf85aa498cd78e  How did Otto von Guericke used the Magdeburg h...   \n",
       "3  0000559f875832745e2e  Is it crazy if I wash or wipe my groceries off...   \n",
       "4  000075f67dd595c3deb5                   What can you say about feminism?   \n",
       "\n",
       "   target                                                bow  \\\n",
       "0       0  {have, encourage, and, an, Do, adopted, not, y...   \n",
       "1       0  {Does, affect, geometry, space, Why, velocity,...   \n",
       "2       0  {did, hemispheres, Otto, How, the, von, used, ...   \n",
       "3       0  {are, wash, off, groceries, or, it, Germs, Is,...   \n",
       "4       0             {say, What, can, you, feminism, about}   \n",
       "\n",
       "                                        preprocessed  \n",
       "0  [Do, adopted, shop, would, dog, encourage, peo...  \n",
       "1  [Does, affect, geometry, space, Why, velocity,...  \n",
       "2  [hemispheres, Otto, How, von, used, Guericke, ...  \n",
       "3  [wipe, wash, Germs, Is, I, everywhere, groceri...  \n",
       "4                              [What, say, feminism]  "
      ]
     },
     "execution_count": 6,
     "metadata": {},
     "output_type": "execute_result"
    }
   ],
   "source": [
    "preprocess_questions(train)\n",
    "train.head()"
   ]
  },
  {
   "cell_type": "code",
   "execution_count": 7,
   "metadata": {},
   "outputs": [
    {
     "data": {
      "text/plain": [
       "(687408, 5)"
      ]
     },
     "execution_count": 7,
     "metadata": {},
     "output_type": "execute_result"
    }
   ],
   "source": [
    "train.shape"
   ]
  },
  {
   "cell_type": "code",
   "execution_count": 11,
   "metadata": {},
   "outputs": [
    {
     "name": "stdout",
     "output_type": "stream",
     "text": [
      "126228 words in training data without GloVE embeddings\n"
     ]
    }
   ],
   "source": [
    "# check how many words which appear in training questions don't have GloVE embeddings\n",
    "all_words = []\n",
    "for bow in train.bow.values:\n",
    "    all_words+=list(bow)\n",
    "all_words = set(all_words)\n",
    "words_without_glove = all_words-set(glove_dict.keys())\n",
    "print('%d words in training data without GloVE embeddings' % len(words_without_glove))"
   ]
  },
  {
   "cell_type": "markdown",
   "metadata": {},
   "source": [
    "### Get average embeddings"
   ]
  },
  {
   "cell_type": "code",
   "execution_count": 14,
   "metadata": {},
   "outputs": [],
   "source": [
    "def average_question(words, embeddings_dim = GLOVE_DIM, embeddings_dict = glove_dict):\n",
    "    '''\n",
    "    this function gets an average embedding for words in each question\n",
    "    '''\n",
    "    \n",
    "    cumsum = np.zeros((embeddings_dim,),dtype=\"float32\")\n",
    "    n = 0 # count number of words in question with GloVE embeddings\n",
    "\n",
    "    for word in words:\n",
    "        if word in glove_dict.keys(): \n",
    "            n+=1\n",
    "            cumsum = np.add(cumsum, embeddings_dict[word])\n",
    "    if n==0: #return zero vector of all words in question lack embedding\n",
    "        return cumsum\n",
    "    else:\n",
    "        average_vec = np.divide(cumsum, n)\n",
    "        return average_vec"
   ]
  },
  {
   "cell_type": "code",
   "execution_count": 15,
   "metadata": {},
   "outputs": [],
   "source": [
    "train['average'] = train['bow'].apply(lambda x: average_question(x))"
   ]
  },
  {
   "cell_type": "code",
   "execution_count": 27,
   "metadata": {},
   "outputs": [
    {
     "data": {
      "text/html": [
       "<div>\n",
       "<style scoped>\n",
       "    .dataframe tbody tr th:only-of-type {\n",
       "        vertical-align: middle;\n",
       "    }\n",
       "\n",
       "    .dataframe tbody tr th {\n",
       "        vertical-align: top;\n",
       "    }\n",
       "\n",
       "    .dataframe thead th {\n",
       "        text-align: right;\n",
       "    }\n",
       "</style>\n",
       "<table border=\"1\" class=\"dataframe\">\n",
       "  <thead>\n",
       "    <tr style=\"text-align: right;\">\n",
       "      <th></th>\n",
       "      <th>qid</th>\n",
       "      <th>question_text</th>\n",
       "      <th>target</th>\n",
       "      <th>bow</th>\n",
       "      <th>preprocessed</th>\n",
       "      <th>average</th>\n",
       "    </tr>\n",
       "  </thead>\n",
       "  <tbody>\n",
       "    <tr>\n",
       "      <th>0</th>\n",
       "      <td>000032939017120e6e44</td>\n",
       "      <td>Do you have an adopted dog, how would you enco...</td>\n",
       "      <td>0</td>\n",
       "      <td>{have, encourage, and, an, Do, adopted, not, y...</td>\n",
       "      <td>[Do, adopted, shop, would, dog, encourage, peo...</td>\n",
       "      <td>[0.0022315735, 0.19206473, 0.17291036, -0.2779...</td>\n",
       "    </tr>\n",
       "    <tr>\n",
       "      <th>1</th>\n",
       "      <td>0000412ca6e4628ce2cf</td>\n",
       "      <td>Why does velocity affect time? Does velocity a...</td>\n",
       "      <td>0</td>\n",
       "      <td>{Does, affect, geometry, space, Why, velocity,...</td>\n",
       "      <td>[Does, affect, geometry, space, Why, velocity,...</td>\n",
       "      <td>[-0.21171881, 0.16346084, 0.3641915, 0.4042083...</td>\n",
       "    </tr>\n",
       "    <tr>\n",
       "      <th>2</th>\n",
       "      <td>000042bf85aa498cd78e</td>\n",
       "      <td>How did Otto von Guericke used the Magdeburg h...</td>\n",
       "      <td>0</td>\n",
       "      <td>{did, hemispheres, Otto, How, the, von, used, ...</td>\n",
       "      <td>[hemispheres, Otto, How, von, used, Guericke, ...</td>\n",
       "      <td>[-0.050080396, -0.046728004, -0.118638, -0.300...</td>\n",
       "    </tr>\n",
       "    <tr>\n",
       "      <th>3</th>\n",
       "      <td>0000559f875832745e2e</td>\n",
       "      <td>Is it crazy if I wash or wipe my groceries off...</td>\n",
       "      <td>0</td>\n",
       "      <td>{are, wash, off, groceries, or, it, Germs, Is,...</td>\n",
       "      <td>[wipe, wash, Germs, Is, I, everywhere, groceri...</td>\n",
       "      <td>[-0.17333056, 0.32357326, 0.42235947, -0.56226...</td>\n",
       "    </tr>\n",
       "    <tr>\n",
       "      <th>4</th>\n",
       "      <td>000075f67dd595c3deb5</td>\n",
       "      <td>What can you say about feminism?</td>\n",
       "      <td>0</td>\n",
       "      <td>{say, What, can, you, feminism, about}</td>\n",
       "      <td>[What, say, feminism]</td>\n",
       "      <td>[-0.059790395, 0.71680003, 0.5117246, -0.15194...</td>\n",
       "    </tr>\n",
       "  </tbody>\n",
       "</table>\n",
       "</div>"
      ],
      "text/plain": [
       "                    qid                                      question_text  \\\n",
       "0  000032939017120e6e44  Do you have an adopted dog, how would you enco...   \n",
       "1  0000412ca6e4628ce2cf  Why does velocity affect time? Does velocity a...   \n",
       "2  000042bf85aa498cd78e  How did Otto von Guericke used the Magdeburg h...   \n",
       "3  0000559f875832745e2e  Is it crazy if I wash or wipe my groceries off...   \n",
       "4  000075f67dd595c3deb5                   What can you say about feminism?   \n",
       "\n",
       "   target                                                bow  \\\n",
       "0       0  {have, encourage, and, an, Do, adopted, not, y...   \n",
       "1       0  {Does, affect, geometry, space, Why, velocity,...   \n",
       "2       0  {did, hemispheres, Otto, How, the, von, used, ...   \n",
       "3       0  {are, wash, off, groceries, or, it, Germs, Is,...   \n",
       "4       0             {say, What, can, you, feminism, about}   \n",
       "\n",
       "                                        preprocessed  \\\n",
       "0  [Do, adopted, shop, would, dog, encourage, peo...   \n",
       "1  [Does, affect, geometry, space, Why, velocity,...   \n",
       "2  [hemispheres, Otto, How, von, used, Guericke, ...   \n",
       "3  [wipe, wash, Germs, Is, I, everywhere, groceri...   \n",
       "4                              [What, say, feminism]   \n",
       "\n",
       "                                             average  \n",
       "0  [0.0022315735, 0.19206473, 0.17291036, -0.2779...  \n",
       "1  [-0.21171881, 0.16346084, 0.3641915, 0.4042083...  \n",
       "2  [-0.050080396, -0.046728004, -0.118638, -0.300...  \n",
       "3  [-0.17333056, 0.32357326, 0.42235947, -0.56226...  \n",
       "4  [-0.059790395, 0.71680003, 0.5117246, -0.15194...  "
      ]
     },
     "execution_count": 27,
     "metadata": {},
     "output_type": "execute_result"
    }
   ],
   "source": [
    "train.head()"
   ]
  },
  {
   "cell_type": "code",
   "execution_count": 29,
   "metadata": {},
   "outputs": [],
   "source": [
    "# subset for questions where sum(average)!=0\n",
    "idx_keep = []\n",
    "for idx,row in train.iterrows():\n",
    "    if sum(row.average)>0:\n",
    "        idx_keep.append(idx)\n",
    "\n",
    "train_keep = train.iloc[idx_keep,:]"
   ]
  },
  {
   "cell_type": "code",
   "execution_count": 33,
   "metadata": {},
   "outputs": [
    {
     "name": "stdout",
     "output_type": "stream",
     "text": [
      "577868 questions dropped\n"
     ]
    }
   ],
   "source": [
    "print('%d questions dropped' % (train.shape[0]-train_keep.shape[0]))"
   ]
  },
  {
   "cell_type": "markdown",
   "metadata": {},
   "source": [
    "### Random Forest Classifier"
   ]
  },
  {
   "cell_type": "code",
   "execution_count": null,
   "metadata": {},
   "outputs": [],
   "source": [
    "from sklearn.ensemble import RandomForestClassifier\n",
    "\n",
    "# Fit a random forest to the training data, using 100 trees\n",
    "forest = RandomForestClassifier(n_estimators = 100)\n",
    "\n",
    "print(\"Fitting a random forest to labeled training data...\")\n",
    "forest = forest.fit(train_keep.average.values, train_keep.target.values)"
   ]
  },
  {
   "cell_type": "markdown",
   "metadata": {},
   "source": [
    "### Tokenize with Keras"
   ]
  },
  {
   "cell_type": "code",
   "execution_count": 34,
   "metadata": {
    "collapsed": true
   },
   "outputs": [
    {
     "name": "stderr",
     "output_type": "stream",
     "text": [
      "/Users/jlzhou/anaconda3/lib/python3.6/site-packages/h5py/__init__.py:36: FutureWarning: Conversion of the second argument of issubdtype from `float` to `np.floating` is deprecated. In future, it will be treated as `np.float64 == np.dtype(float).type`.\n",
      "  from ._conv import register_converters as _register_converters\n",
      "Using TensorFlow backend.\n"
     ]
    }
   ],
   "source": [
    "from keras.preprocessing.text import Tokenizer\n",
    "from keras.preprocessing.sequence import pad_sequences\n",
    "from keras.utils import to_categorical"
   ]
  },
  {
   "cell_type": "code",
   "execution_count": 42,
   "metadata": {},
   "outputs": [
    {
     "name": "stdout",
     "output_type": "stream",
     "text": [
      "Found 160194 unique tokens.\n"
     ]
    }
   ],
   "source": [
    "MAX_NWORDS = 1000\n",
    "MAX_SEQ_LEN = 100\n",
    "tokenizer = Tokenizer(num_words=MAX_NUM_WORDS)\n",
    "tokenizer.fit_on_texts(train.preprocessed)\n",
    "sequences = tokenizer.texts_to_sequences(train.preprocessed)\n",
    "\n",
    "word_index = tokenizer.word_index\n",
    "print('Found %s unique tokens.' % len(word_index))\n",
    "\n",
    "data = pad_sequences(sequences, maxlen=MAX_SEQ_LEN)\n",
    "\n",
    "labels = to_categorical(np.asarray(train['target']))"
   ]
  },
  {
   "cell_type": "code",
   "execution_count": 48,
   "metadata": {},
   "outputs": [],
   "source": [
    "# prepare embedding matrix \n",
    "from keras.layers import Embedding\n",
    "from keras.initializers import Constant\n",
    "\n",
    "MAX_NWORDS=1000\n",
    "nwords = min(MAX_NWORDS, len(word_index)) + 1\n",
    "embedding_mtx = np.zeros((nwords, GLOVE_DIM))\n",
    "embedding_mtx_idx = []\n",
    "for word, i in word_index.items():\n",
    "    if i > MAX_NWORDS:\n",
    "        continue\n",
    "    embedding_vector = glove_dict.get(word) ## This references the loaded embeddings dictionary\n",
    "    if embedding_vector is not None:\n",
    "        # words not found in embedding index will be all-zeros.\n",
    "        embedding_mtx[i] = embedding_vector\n",
    "        embedding_mtx_idx.append(word)\n",
    "        \n",
    "# load pre-trained word embeddings into an Embedding layer\n",
    "# note that we set trainable = False so as to keep the embeddings fixed\n",
    "embedding_layer = Embedding(nwords,\n",
    "                            GLOVE_DIM,\n",
    "                            embeddings_initializer=Constant(embedding_mtx),\n",
    "                            input_length=MAX_SEQ_LEN,\n",
    "                            trainable=False)"
   ]
  },
  {
   "cell_type": "code",
   "execution_count": 52,
   "metadata": {},
   "outputs": [
    {
     "name": "stdout",
     "output_type": "stream",
     "text": [
      "(1001, 100)\n"
     ]
    },
    {
     "data": {
      "text/plain": [
       "<matplotlib.legend.Legend at 0x1a78b17da0>"
      ]
     },
     "execution_count": 52,
     "metadata": {},
     "output_type": "execute_result"
    },
    {
     "data": {
      "image/png": "[encoded data removed]",
      "text/plain": [
       "<Figure size 432x288 with 1 Axes>"
      ]
     },
     "metadata": {},
     "output_type": "display_data"
    }
   ],
   "source": [
    "## Peeking at the embedding mtx values\n",
    "print(embedding_mtx.shape)\n",
    "plt.plot(embedding_mtx[16], label=embedding_mtx_idx[16])\n",
    "plt.plot(embedding_mtx[37], label=embedding_mtx_idx[37])\n",
    "plt.plot(embedding_mtx[18], label=embedding_mtx_idx[18])\n",
    "plt.title('example vectors')\n",
    "plt.legend()"
   ]
  },
  {
   "cell_type": "code",
   "execution_count": null,
   "metadata": {},
   "outputs": [],
   "source": []
  }
 ],
 "metadata": {
  "kernelspec": {
   "display_name": "Python 3",
   "language": "python",
   "name": "python3"
  },
  "language_info": {
   "codemirror_mode": {
    "name": "ipython",
    "version": 3
   },
   "file_extension": ".py",
   "mimetype": "text/x-python",
   "name": "python",
   "nbconvert_exporter": "python",
   "pygments_lexer": "ipython3",
   "version": "3.6.5"
  }
 },
 "nbformat": 4,
 "nbformat_minor": 2
}
