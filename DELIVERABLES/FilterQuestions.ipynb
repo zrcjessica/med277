{
 "cells": [
  {
   "cell_type": "code",
   "execution_count": 1,
   "metadata": {},
   "outputs": [
    {
     "name": "stdout",
     "output_type": "stream",
     "text": [
      "[nltk_data] Downloading package stopwords to /home/james/nltk_data...\n",
      "[nltk_data]   Package stopwords is already up-to-date!\n"
     ]
    }
   ],
   "source": [
    "import pandas as pd\n",
    "import matplotlib.pyplot as plt\n",
    "%matplotlib inline\n",
    "import nltk\n",
    "import re\n",
    "nltk.download('stopwords')\n",
    "nltk.download('punkt')\n",
    "from nltk.corpus import stopwords\n",
    "stop = set(stopwords.words('english'))"
   ]
  },
  {
   "cell_type": "code",
   "execution_count": 13,
   "metadata": {},
   "outputs": [],
   "source": [
    "train_file = 'train.csv'\n",
    "medical_terms = 'wordlist.txt' # medcical terms from https://github.com/glutanimate/wordlist-medicalterms-en\n",
    "out_file = 'train_medical.csv'"
   ]
  },
  {
   "cell_type": "code",
   "execution_count": 3,
   "metadata": {},
   "outputs": [],
   "source": [
    "# load kaggle training q's (can load other sets of q's in this format as well)\n",
    "quora_train = pd.read_csv(train_file)\n",
    "# load medical terms\n",
    "med_glossary = open(medical_terms).read().splitlines()\n",
    "# convert glossary to set for faster lookups (?)\n",
    "med_set = set(med_glossary)"
   ]
  },
  {
   "cell_type": "code",
   "execution_count": 9,
   "metadata": {},
   "outputs": [],
   "source": [
    "'''function for filtering questions\n",
    "stop words not removed because they have negligible effect on filtering quality'''\n",
    "def filter_questions(df):\n",
    "    # get set of words in each question (\"bag of words\")\n",
    "    df['bow'] = df.question_text.apply(lambda x: set(re.sub(\"[^\\w\\d'\\s]+\",'',x).split()))\n",
    "    \n",
    "    # test which questions contain medical terms\n",
    "    ix_to_keep = []\n",
    "    for ix,row in df.iterrows():\n",
    "        if len(row.bow & med_set) > 0.4*len(row.bow):\n",
    "            ix_to_keep.append(ix)\n",
    "    \n",
    "    # subset df\n",
    "    med_df = df.iloc[ix_to_keep,:]\n",
    "    return med_df"
   ]
  },
  {
   "cell_type": "code",
   "execution_count": 10,
   "metadata": {},
   "outputs": [
    {
     "data": {
      "text/html": [
       "<div>\n",
       "<style scoped>\n",
       "    .dataframe tbody tr th:only-of-type {\n",
       "        vertical-align: middle;\n",
       "    }\n",
       "\n",
       "    .dataframe tbody tr th {\n",
       "        vertical-align: top;\n",
       "    }\n",
       "\n",
       "    .dataframe thead th {\n",
       "        text-align: right;\n",
       "    }\n",
       "</style>\n",
       "<table border=\"1\" class=\"dataframe\">\n",
       "  <thead>\n",
       "    <tr style=\"text-align: right;\">\n",
       "      <th></th>\n",
       "      <th>qid</th>\n",
       "      <th>question_text</th>\n",
       "      <th>target</th>\n",
       "      <th>bow</th>\n",
       "    </tr>\n",
       "  </thead>\n",
       "  <tbody>\n",
       "    <tr>\n",
       "      <th>2</th>\n",
       "      <td>0000412ca6e4628ce2cf</td>\n",
       "      <td>Why does velocity affect time? Does velocity a...</td>\n",
       "      <td>0</td>\n",
       "      <td>{velocity, time, affect, Does, does, space, ge...</td>\n",
       "    </tr>\n",
       "    <tr>\n",
       "      <th>31</th>\n",
       "      <td>00014b4f153c26b02df2</td>\n",
       "      <td>How can I remove black heads which are all ove...</td>\n",
       "      <td>0</td>\n",
       "      <td>{my, heads, are, How, which, I, black, nose, a...</td>\n",
       "    </tr>\n",
       "    <tr>\n",
       "      <th>39</th>\n",
       "      <td>0001ad0e065679a75450</td>\n",
       "      <td>How do I get charge by contact?</td>\n",
       "      <td>0</td>\n",
       "      <td>{by, charge, do, contact, How, I, get}</td>\n",
       "    </tr>\n",
       "    <tr>\n",
       "      <th>53</th>\n",
       "      <td>00025639893f22884858</td>\n",
       "      <td>Which machine learning techniques can be used ...</td>\n",
       "      <td>0</td>\n",
       "      <td>{metadata, can, learning, extract, alignment, ...</td>\n",
       "    </tr>\n",
       "    <tr>\n",
       "      <th>57</th>\n",
       "      <td>0002911c277ef4279692</td>\n",
       "      <td>How do DNA and RNA compare and contrast?</td>\n",
       "      <td>0</td>\n",
       "      <td>{compare, do, and, How, contrast, DNA, RNA}</td>\n",
       "    </tr>\n",
       "  </tbody>\n",
       "</table>\n",
       "</div>"
      ],
      "text/plain": [
       "                     qid                                      question_text  \\\n",
       "2   0000412ca6e4628ce2cf  Why does velocity affect time? Does velocity a...   \n",
       "31  00014b4f153c26b02df2  How can I remove black heads which are all ove...   \n",
       "39  0001ad0e065679a75450                    How do I get charge by contact?   \n",
       "53  00025639893f22884858  Which machine learning techniques can be used ...   \n",
       "57  0002911c277ef4279692           How do DNA and RNA compare and contrast?   \n",
       "\n",
       "    target                                                bow  \n",
       "2        0  {velocity, time, affect, Does, does, space, ge...  \n",
       "31       0  {my, heads, are, How, which, I, black, nose, a...  \n",
       "39       0             {by, charge, do, contact, How, I, get}  \n",
       "53       0  {metadata, can, learning, extract, alignment, ...  \n",
       "57       0        {compare, do, and, How, contrast, DNA, RNA}  "
      ]
     },
     "execution_count": 10,
     "metadata": {},
     "output_type": "execute_result"
    }
   ],
   "source": [
    "quora_train_med = filter_questions(quora_train)\n",
    "quora_train_med.head()"
   ]
  },
  {
   "cell_type": "code",
   "execution_count": 11,
   "metadata": {},
   "outputs": [
    {
     "name": "stdout",
     "output_type": "stream",
     "text": [
      "1306122 questions in initial set of questions\n",
      "1225312 sincere (target) questions in initial set\n",
      "80810 insincere (target) questions in initial set\n",
      "127914 questions in filtered set of questions\n",
      "124522 sincere (target) questions in filtered set\n",
      "3392 insincere (target) questions in filtered set\n"
     ]
    }
   ],
   "source": [
    "print('%d questions in initial set of questions' % quora_train.shape[0])\n",
    "print('%d sincere (target) questions in initial set' % list(quora_train.target).count(0))\n",
    "print('%d insincere (target) questions in initial set' % list(quora_train.target).count(1))\n",
    "print('%d questions in filtered set of questions' % quora_train_med.shape[0])\n",
    "print('%d sincere (target) questions in filtered set' % list(quora_train_med.target).count(0))\n",
    "print('%d insincere (target) questions in filtered set' % list(quora_train_med.target).count(1))"
   ]
  },
  {
   "cell_type": "code",
   "execution_count": 12,
   "metadata": {},
   "outputs": [],
   "source": [
    "# write to file\n",
    "quora_train_med[['qid','question_text','target']].to_csv(out_file, index=False)"
   ]
  },
  {
   "cell_type": "code",
   "execution_count": null,
   "metadata": {},
   "outputs": [],
   "source": []
  }
 ],
 "metadata": {
  "kernelspec": {
   "display_name": "Python 3",
   "language": "python",
   "name": "python3"
  },
  "language_info": {
   "codemirror_mode": {
    "name": "ipython",
    "version": 3
   },
   "file_extension": ".py",
   "mimetype": "text/x-python",
   "name": "python",
   "nbconvert_exporter": "python",
   "pygments_lexer": "ipython3",
   "version": "3.6.6"
  }
 },
 "nbformat": 4,
 "nbformat_minor": 2
}
