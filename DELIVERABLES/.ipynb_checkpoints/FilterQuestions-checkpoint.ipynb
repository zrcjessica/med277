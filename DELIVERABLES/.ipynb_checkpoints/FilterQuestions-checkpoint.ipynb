{
 "cells": [
  {
   "cell_type": "code",
   "execution_count": 3,
   "metadata": {},
   "outputs": [
    {
     "name": "stdout",
     "output_type": "stream",
     "text": [
      "[nltk_data] Downloading package stopwords to\n",
      "[nltk_data]     /Users/jlzhou/nltk_data...\n",
      "[nltk_data]   Package stopwords is already up-to-date!\n",
      "[nltk_data] Downloading package punkt to /Users/jlzhou/nltk_data...\n",
      "[nltk_data]   Package punkt is already up-to-date!\n"
     ]
    }
   ],
   "source": [
    "import pandas as pd\n",
    "import matplotlib.pyplot as plt\n",
    "%matplotlib inline\n",
    "import nltk\n",
    "import re\n",
    "nltk.download('stopwords')\n",
    "nltk.download('punkt')\n",
    "from nltk.corpus import stopwords\n",
    "stop = set(stopwords.words('english'))"
   ]
  },
  {
   "cell_type": "code",
   "execution_count": null,
   "metadata": {},
   "outputs": [],
   "source": [
    "!unzio train.csv.zip"
   ]
  },
  {
   "cell_type": "code",
   "execution_count": 4,
   "metadata": {},
   "outputs": [],
   "source": [
    "# load kaggle training q's\n",
    "quora_train = pd.read_csv('train.csv')\n",
    "# load medical terms from https://github.com/glutanimate/wordlist-medicalterms-en\n",
    "med_glossary = open('wordlist.txt').read().splitlines()\n",
    "# convert glossary to set for faster lookups (?)\n",
    "med_set = set(med_glossary)"
   ]
  },
  {
   "cell_type": "code",
   "execution_count": 6,
   "metadata": {},
   "outputs": [
    {
     "name": "stdout",
     "output_type": "stream",
     "text": [
      "Percent of insincere entries 6.187 %\n"
     ]
    },
    {
     "data": {
      "image/png": "[encoded data removed]",
      "text/plain": [
       "<Figure size 432x288 with 1 Axes>"
      ]
     },
     "metadata": {},
     "output_type": "display_data"
    }
   ],
   "source": [
    "# visualize distribution of unfiltered data\n",
    "fig,ax = plt.subplots(1,1)\n",
    "quora_train.hist(column = 'target', ax = ax)\n",
    "ax.set_title('Number of entries classified as sincere vs insincere')\n",
    "ax.set_xticks([0,1])\n",
    "print('Percent of insincere entries %.3f %%'%(100*(sum(quora_train['target'])/len(quora_train))))"
   ]
  },
  {
   "cell_type": "code",
   "execution_count": 5,
   "metadata": {},
   "outputs": [],
   "source": [
    "'''function for filtering questions\n",
    "stop words not removed because they have negligible effect on filtering quality'''\n",
    "def filter_questions(df):\n",
    "    # get set of words in each question (\"bag of words\")\n",
    "    df['bow'] = df.question_text.apply(lambda x: set(re.sub(\"[^\\w\\d'\\s]+\",'',x).split()))\n",
    "    \n",
    "    # test which questions contain medical terms\n",
    "    ix_to_keep = []\n",
    "    for ix,row in df.iterrows():\n",
    "        if len(row.bow & med_set) > 0.4*len(row.bow):\n",
    "            ix_to_keep.append(ix)\n",
    "    \n",
    "    # subset df\n",
    "    med_df = df.iloc[ix_to_keep,:]\n",
    "    return med_df"
   ]
  },
  {
   "cell_type": "code",
   "execution_count": 6,
   "metadata": {},
   "outputs": [],
   "source": [
    "quora_train_med = filter_questions(quora_train)"
   ]
  },
  {
   "cell_type": "code",
   "execution_count": 7,
   "metadata": {},
   "outputs": [
    {
     "name": "stdout",
     "output_type": "stream",
     "text": [
      "1306122 questions in initial set of questions\n",
      "1225312 sincere (target) questions in initial set\n",
      "80810 insincere (target) questions in initial set\n",
      "127914 questions in filtered set of questions\n",
      "124522 sincere (target) questions in filtered set\n",
      "3392 insincere (target) questions in filtered set\n"
     ]
    }
   ],
   "source": [
    "print('%d questions in initial set of questions' % quora_train.shape[0])\n",
    "print('%d sincere (target) questions in initial set' % list(quora_train.target).count(0))\n",
    "print('%d insincere (target) questions in initial set' % list(quora_train.target).count(1))\n",
    "print('%d questions in filtered set of questions' % quora_train_med.shape[0])\n",
    "print('%d sincere (target) questions in filtered set' % list(quora_train_med.target).count(0))\n",
    "print('%d insincere (target) questions in filtered set' % list(quora_train_med.target).count(1))"
   ]
  },
  {
   "cell_type": "code",
   "execution_count": 10,
   "metadata": {},
   "outputs": [],
   "source": [
    "# write to file\n",
    "quora_train_med[['qid','question_text','target']].to_csv('train_medical.csv', index=False)"
   ]
  },
  {
   "cell_type": "code",
   "execution_count": 9,
   "metadata": {},
   "outputs": [
    {
     "name": "stdout",
     "output_type": "stream",
     "text": [
      "Percent of insincere entries 2.652 %\n"
     ]
    },
    {
     "data": {
      "image/png": "[encoded data removed]",
      "text/plain": [
       "<Figure size 432x288 with 1 Axes>"
      ]
     },
     "metadata": {
      "needs_background": "light"
     },
     "output_type": "display_data"
    }
   ],
   "source": [
    "# visualize distribution of filtered data\n",
    "fig,ax = plt.subplots(1,1)\n",
    "quora_train_med.hist(column = 'target', ax = ax)\n",
    "ax.set_title('Number of entries classified as sincere vs insincere')\n",
    "ax.set_xticks([0,1])\n",
    "print('Percent of insincere entries %.3f %%'%(100*(sum(quora_train_med['target'])/len(quora_train_med))))"
   ]
  }
 ],
 "metadata": {
  "kernelspec": {
   "display_name": "Python 3",
   "language": "python",
   "name": "python3"
  },
  "language_info": {
   "codemirror_mode": {
    "name": "ipython",
    "version": 3
   },
   "file_extension": ".py",
   "mimetype": "text/x-python",
   "name": "python",
   "nbconvert_exporter": "python",
   "pygments_lexer": "ipython3",
   "version": "3.6.5"
  }
 },
 "nbformat": 4,
 "nbformat_minor": 2
}
