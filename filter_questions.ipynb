{
 "cells": [
  {
   "cell_type": "markdown",
   "metadata": {},
   "source": [
    "This notebook filters for questions from the initial training set of Quora questions from Kaggle to retain questions wherein >20% of the words in the questions are considered to be [biomedical terms](https://github.com/glutanimate/wordlist-medicalterms-en).\n"
   ]
  },
  {
   "cell_type": "code",
   "execution_count": 3,
   "metadata": {},
   "outputs": [],
   "source": [
    "import pandas as pd"
   ]
  },
  {
   "cell_type": "code",
   "execution_count": null,
   "metadata": {},
   "outputs": [],
   "source": [
    "# download Kaggle training q's \n",
    "!wget https://www.kaggle.com/c/quora-insincere-questions-classification/download/train.csv"
   ]
  },
  {
   "cell_type": "code",
   "execution_count": 4,
   "metadata": {},
   "outputs": [],
   "source": [
    "# load kaggle training q's (can load other sets of q's in this format as well)\n",
    "quora_train = pd.read_csv('/Users/jlzhou/Documents/med277/train.csv')\n",
    "\n",
    "# load medical terms\n",
    "med_glossary = open('/Users/jlzhou/Documents/med277/wordlist-medicalterms-en/wordlist.txt').read().splitlines()\n",
    "# convert glossary to set for faster lookups (?)\n",
    "med_set = set(med_glossary)"
   ]
  },
  {
   "cell_type": "code",
   "execution_count": 5,
   "metadata": {},
   "outputs": [],
   "source": [
    "# function for filtering questions\n",
    "def filter_questions(df):\n",
    "    # get set of words in each question (\"bag of words\")\n",
    "    df['bow'] = df.question_text.apply(lambda x: set(x.split()))\n",
    "    \n",
    "    # test which questions contain medical terms\n",
    "    ix_to_keep = []\n",
    "    for ix,row in df.iterrows():\n",
    "        if len(row.bow & med_set) > 0.2*len(row.bow):\n",
    "            ix_to_keep.append(ix)\n",
    "    \n",
    "    # subset df\n",
    "    med_df = df.iloc[ix_to_keep,:]\n",
    "    return med_df"
   ]
  },
  {
   "cell_type": "code",
   "execution_count": 7,
   "metadata": {},
   "outputs": [
    {
     "data": {
      "text/html": [
       "<div>\n",
       "<style scoped>\n",
       "    .dataframe tbody tr th:only-of-type {\n",
       "        vertical-align: middle;\n",
       "    }\n",
       "\n",
       "    .dataframe tbody tr th {\n",
       "        vertical-align: top;\n",
       "    }\n",
       "\n",
       "    .dataframe thead th {\n",
       "        text-align: right;\n",
       "    }\n",
       "</style>\n",
       "<table border=\"1\" class=\"dataframe\">\n",
       "  <thead>\n",
       "    <tr style=\"text-align: right;\">\n",
       "      <th></th>\n",
       "      <th>qid</th>\n",
       "      <th>question_text</th>\n",
       "      <th>target</th>\n",
       "      <th>bow</th>\n",
       "    </tr>\n",
       "  </thead>\n",
       "  <tbody>\n",
       "    <tr>\n",
       "      <th>2</th>\n",
       "      <td>0000412ca6e4628ce2cf</td>\n",
       "      <td>Why does velocity affect time? Does velocity a...</td>\n",
       "      <td>0</td>\n",
       "      <td>{does, Why, time?, space, Does, geometry?, vel...</td>\n",
       "    </tr>\n",
       "    <tr>\n",
       "      <th>3</th>\n",
       "      <td>000042bf85aa498cd78e</td>\n",
       "      <td>How did Otto von Guericke used the Magdeburg h...</td>\n",
       "      <td>0</td>\n",
       "      <td>{How, von, hemispheres?, Magdeburg, used, the,...</td>\n",
       "    </tr>\n",
       "    <tr>\n",
       "      <th>7</th>\n",
       "      <td>0000559f875832745e2e</td>\n",
       "      <td>Is it crazy if I wash or wipe my groceries off...</td>\n",
       "      <td>0</td>\n",
       "      <td>{I, everywhere., my, off?, wipe, Germs, crazy,...</td>\n",
       "    </tr>\n",
       "    <tr>\n",
       "      <th>13</th>\n",
       "      <td>000092a90bcfbfe8cd88</td>\n",
       "      <td>Can we use our external hard disk as a OS as w...</td>\n",
       "      <td>0</td>\n",
       "      <td>{OS, well, be, a, our, external, affected?, fo...</td>\n",
       "    </tr>\n",
       "    <tr>\n",
       "      <th>16</th>\n",
       "      <td>0000b8e1279eaa0a7062</td>\n",
       "      <td>How difficult is it to find a good instructor ...</td>\n",
       "      <td>0</td>\n",
       "      <td>{How, take, you?, is, near, a, good, to, instr...</td>\n",
       "    </tr>\n",
       "  </tbody>\n",
       "</table>\n",
       "</div>"
      ],
      "text/plain": [
       "                     qid                                      question_text  \\\n",
       "2   0000412ca6e4628ce2cf  Why does velocity affect time? Does velocity a...   \n",
       "3   000042bf85aa498cd78e  How did Otto von Guericke used the Magdeburg h...   \n",
       "7   0000559f875832745e2e  Is it crazy if I wash or wipe my groceries off...   \n",
       "13  000092a90bcfbfe8cd88  Can we use our external hard disk as a OS as w...   \n",
       "16  0000b8e1279eaa0a7062  How difficult is it to find a good instructor ...   \n",
       "\n",
       "    target                                                bow  \n",
       "2        0  {does, Why, time?, space, Does, geometry?, vel...  \n",
       "3        0  {How, von, hemispheres?, Magdeburg, used, the,...  \n",
       "7        0  {I, everywhere., my, off?, wipe, Germs, crazy,...  \n",
       "13       0  {OS, well, be, a, our, external, affected?, fo...  \n",
       "16       0  {How, take, you?, is, near, a, good, to, instr...  "
      ]
     },
     "execution_count": 7,
     "metadata": {},
     "output_type": "execute_result"
    }
   ],
   "source": [
    "quora_train_med = filter_questions(quora_train)\n",
    "quora_train_med.head()"
   ]
  },
  {
   "cell_type": "markdown",
   "metadata": {},
   "source": [
    "Let's take a look at one of the questions remaining after filtering:"
   ]
  },
  {
   "cell_type": "code",
   "execution_count": 10,
   "metadata": {},
   "outputs": [
    {
     "data": {
      "text/plain": [
       "'Why does velocity affect time? Does velocity affect space geometry?'"
      ]
     },
     "execution_count": 10,
     "metadata": {},
     "output_type": "execute_result"
    }
   ],
   "source": [
    "quora_train_med.iloc[0,:].question_text"
   ]
  },
  {
   "cell_type": "markdown",
   "metadata": {},
   "source": [
    "Which of the words in this sentence are from the set of medical terms?"
   ]
  },
  {
   "cell_type": "code",
   "execution_count": 9,
   "metadata": {},
   "outputs": [
    {
     "data": {
      "text/plain": [
       "{'affect', 'space', 'velocity'}"
      ]
     },
     "execution_count": 9,
     "metadata": {},
     "output_type": "execute_result"
    }
   ],
   "source": [
    "quora_train_med.iloc[0,:].bow&med_set"
   ]
  },
  {
   "cell_type": "code",
   "execution_count": 16,
   "metadata": {},
   "outputs": [
    {
     "name": "stdout",
     "output_type": "stream",
     "text": [
      "1306122 questions in initial set of questions\n",
      "547610 questions in filtered set of questions\n",
      "80810 insincere (target) questions in initial set\n",
      "28314 insincere (target) questions in filtered set\n"
     ]
    }
   ],
   "source": [
    "print('%d questions in initial set of questions' % quora_train.shape[0])\n",
    "print('%d questions in filtered set of questions' % quora_train_med.shape[0])\n",
    "print('%d insincere (target) questions in initial set' % sum(quora_train.target))\n",
    "print('%d insincere (target) questions in filtered set' % sum(quora_train_med.target))"
   ]
  },
  {
   "cell_type": "code",
   "execution_count": null,
   "metadata": {},
   "outputs": [],
   "source": []
  }
 ],
 "metadata": {
  "kernelspec": {
   "display_name": "Python 3",
   "language": "python",
   "name": "python3"
  },
  "language_info": {
   "codemirror_mode": {
    "name": "ipython",
    "version": 3
   },
   "file_extension": ".py",
   "mimetype": "text/x-python",
   "name": "python",
   "nbconvert_exporter": "python",
   "pygments_lexer": "ipython3",
   "version": "3.6.5"
  }
 },
 "nbformat": 4,
 "nbformat_minor": 2
}
